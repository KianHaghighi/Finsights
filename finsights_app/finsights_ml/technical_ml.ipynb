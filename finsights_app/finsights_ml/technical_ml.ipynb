{
 "cells": [
  {
   "cell_type": "code",
   "execution_count": 3,
   "id": "ab557311",
   "metadata": {},
   "outputs": [
    {
     "name": "stdout",
     "output_type": "stream",
     "text": [
      "[*********************100%***********************]  1 of 1 completed\n"
     ]
    }
   ],
   "source": [
    "import yfinance as yf\n",
    "import pandas as pd\n",
    "import numpy as np\n",
    "from sklearn.model_selection import train_test_split\n",
    "from sklearn.linear_model import LinearRegression\n",
    "from sklearn.metrics import mean_squared_error, r2_score\n",
    "\n",
    "# Step 1: Fetch historical stock data using yfinance\n",
    "stock_symbol = 'AAPL'\n",
    "stock_data = yf.download(stock_symbol, start='2020-01-01', end='2023-01-01')"
   ]
  },
  {
   "cell_type": "code",
   "execution_count": 5,
   "id": "abb2a22f",
   "metadata": {},
   "outputs": [],
   "source": [
    "# Step 2: Feature Engineering - Calculate financial indicators\n",
    "stock_data['SMA'] = stock_data['Close'].rolling(window=20).mean()  # 20-day Simple Moving Average"
   ]
  },
  {
   "cell_type": "code",
   "execution_count": 6,
   "id": "136cbe37",
   "metadata": {},
   "outputs": [],
   "source": [
    "up_prices = np.where(stock_data['Close'].diff(1) > 0, stock_data['Close'].diff(1), 0)\n",
    "down_prices = np.where(stock_data['Close'].diff(1) < 0, -stock_data['Close'].diff(1), 0)\n",
    "avg_gain = np.mean(up_prices[-14:])\n",
    "avg_loss = np.mean(down_prices[-14:])\n",
    "rsi = 100 - (100 / (1 + avg_gain / avg_loss))\n",
    "stock_data['RSI'] = rsi"
   ]
  },
  {
   "cell_type": "code",
   "execution_count": 7,
   "id": "5c08383b",
   "metadata": {},
   "outputs": [],
   "source": [
    "# Step 3: Prepare the data for training the model\n",
    "X = stock_data[['SMA', 'RSI']].dropna()  # Features\n",
    "y = stock_data['Close'].shift(-1).dropna()  # Target variable (next day's closing price)"
   ]
  },
  {
   "cell_type": "code",
   "execution_count": 30,
   "id": "01469507",
   "metadata": {},
   "outputs": [],
   "source": [
    "from datetime import datetime, timedelta"
   ]
  },
  {
   "cell_type": "code",
   "execution_count": 31,
   "id": "4340d023",
   "metadata": {},
   "outputs": [
    {
     "name": "stdout",
     "output_type": "stream",
     "text": [
      "[*********************100%***********************]  1 of 1 completed\n"
     ]
    }
   ],
   "source": [
    "now = datetime.now()\n",
    "\n",
    "# Calculate the date and time for 10 AM yesterday\n",
    "yesterday = now - timedelta(days=1)\n",
    "user_date = datetime(yesterday.year, yesterday.month, yesterday.day, hour=10, minute=0, second=0)    \n",
    "\n",
    "stock_symbol = 'TSLA'\n",
    "stock_data = yf.download(stock_symbol, start=user_date, end=user_date)"
   ]
  },
  {
   "cell_type": "code",
   "execution_count": 36,
   "id": "da3a343d",
   "metadata": {},
   "outputs": [
    {
     "data": {
      "text/html": [
       "<div>\n",
       "<style scoped>\n",
       "    .dataframe tbody tr th:only-of-type {\n",
       "        vertical-align: middle;\n",
       "    }\n",
       "\n",
       "    .dataframe tbody tr th {\n",
       "        vertical-align: top;\n",
       "    }\n",
       "\n",
       "    .dataframe thead th {\n",
       "        text-align: right;\n",
       "    }\n",
       "</style>\n",
       "<table border=\"1\" class=\"dataframe\">\n",
       "  <thead>\n",
       "    <tr style=\"text-align: right;\">\n",
       "      <th></th>\n",
       "      <th>Open</th>\n",
       "      <th>High</th>\n",
       "      <th>Low</th>\n",
       "      <th>Close</th>\n",
       "      <th>Adj Close</th>\n",
       "      <th>Volume</th>\n",
       "      <th>SMA</th>\n",
       "      <th>RSI</th>\n",
       "    </tr>\n",
       "    <tr>\n",
       "      <th>Date</th>\n",
       "      <th></th>\n",
       "      <th></th>\n",
       "      <th></th>\n",
       "      <th></th>\n",
       "      <th></th>\n",
       "      <th></th>\n",
       "      <th></th>\n",
       "      <th></th>\n",
       "    </tr>\n",
       "  </thead>\n",
       "  <tbody>\n",
       "    <tr>\n",
       "      <th>2023-07-24</th>\n",
       "      <td>255.850006</td>\n",
       "      <td>269.850006</td>\n",
       "      <td>254.119995</td>\n",
       "      <td>269.059998</td>\n",
       "      <td>269.059998</td>\n",
       "      <td>136508500</td>\n",
       "      <td>NaN</td>\n",
       "      <td>NaN</td>\n",
       "    </tr>\n",
       "  </tbody>\n",
       "</table>\n",
       "</div>"
      ],
      "text/plain": [
       "                  Open        High         Low       Close   Adj Close  \\\n",
       "Date                                                                     \n",
       "2023-07-24  255.850006  269.850006  254.119995  269.059998  269.059998   \n",
       "\n",
       "               Volume  SMA  RSI  \n",
       "Date                             \n",
       "2023-07-24  136508500  NaN  NaN  "
      ]
     },
     "execution_count": 36,
     "metadata": {},
     "output_type": "execute_result"
    }
   ],
   "source": [
    "stock_data.head()"
   ]
  },
  {
   "cell_type": "code",
   "execution_count": 35,
   "id": "8e36f057",
   "metadata": {},
   "outputs": [
    {
     "name": "stderr",
     "output_type": "stream",
     "text": [
      "C:\\Users\\kianh\\AppData\\Local\\Temp\\ipykernel_21556\\1390863534.py:7: RuntimeWarning: invalid value encountered in double_scalars\n",
      "  rsi = 100 - (100 / (1 + avg_gain / avg_loss))\n"
     ]
    },
    {
     "data": {
      "text/html": [
       "<div>\n",
       "<style scoped>\n",
       "    .dataframe tbody tr th:only-of-type {\n",
       "        vertical-align: middle;\n",
       "    }\n",
       "\n",
       "    .dataframe tbody tr th {\n",
       "        vertical-align: top;\n",
       "    }\n",
       "\n",
       "    .dataframe thead th {\n",
       "        text-align: right;\n",
       "    }\n",
       "</style>\n",
       "<table border=\"1\" class=\"dataframe\">\n",
       "  <thead>\n",
       "    <tr style=\"text-align: right;\">\n",
       "      <th></th>\n",
       "      <th>SMA</th>\n",
       "      <th>RSI</th>\n",
       "    </tr>\n",
       "    <tr>\n",
       "      <th>Date</th>\n",
       "      <th></th>\n",
       "      <th></th>\n",
       "    </tr>\n",
       "  </thead>\n",
       "  <tbody>\n",
       "  </tbody>\n",
       "</table>\n",
       "</div>"
      ],
      "text/plain": [
       "Empty DataFrame\n",
       "Columns: [SMA, RSI]\n",
       "Index: []"
      ]
     },
     "execution_count": 35,
     "metadata": {},
     "output_type": "execute_result"
    }
   ],
   "source": [
    "#testing\n",
    "#it appears that there has to be a long enough time period, so I need to edit the stock_data to get the past year of the given stock\n",
    "\n",
    "stock_data['SMA'] = stock_data['Close'].rolling(window=20).mean() \n",
    "up_prices = np.where(stock_data['Close'].diff(1) > 0, stock_data['Close'].diff(1), 0)\n",
    "down_prices = np.where(stock_data['Close'].diff(1) < 0, -stock_data['Close'].diff(1), 0)\n",
    "avg_gain = np.mean(up_prices[-14:])\n",
    "avg_loss = np.mean(down_prices[-14:])\n",
    "rsi = 100 - (100 / (1 + avg_gain / avg_loss))\n",
    "stock_data['RSI'] = rsi\n",
    "X = stock_data[['SMA', 'RSI']].dropna()  #Features\n",
    "X.head()"
   ]
  },
  {
   "cell_type": "code",
   "execution_count": 9,
   "id": "97452b96",
   "metadata": {},
   "outputs": [],
   "source": [
    "# Make sure the number of samples in X and y are consistent\n",
    "num_samples = min(X.shape[0], y.shape[0])\n",
    "X = X.iloc[:num_samples]\n",
    "y = y.iloc[:num_samples]"
   ]
  },
  {
   "cell_type": "code",
   "execution_count": 10,
   "id": "f5ba476d",
   "metadata": {
    "scrolled": true
   },
   "outputs": [],
   "source": [
    "# Step 4: Split the data into training and testing sets\n",
    "X_train, X_test, y_train, y_test = train_test_split(X, y, test_size=0.2, random_state=42)"
   ]
  },
  {
   "cell_type": "code",
   "execution_count": 18,
   "id": "58a7c663",
   "metadata": {},
   "outputs": [
    {
     "data": {
      "text/plain": [
       "LinearRegression()"
      ]
     },
     "execution_count": 18,
     "metadata": {},
     "output_type": "execute_result"
    }
   ],
   "source": [
    "# Step 5: Train the linear regression model\n",
    "model_tech = LinearRegression()\n",
    "model_tech.fit(X_train, y_train)"
   ]
  },
  {
   "cell_type": "code",
   "execution_count": 23,
   "id": "39e085f2",
   "metadata": {},
   "outputs": [
    {
     "data": {
      "text/html": [
       "<div>\n",
       "<style scoped>\n",
       "    .dataframe tbody tr th:only-of-type {\n",
       "        vertical-align: middle;\n",
       "    }\n",
       "\n",
       "    .dataframe tbody tr th {\n",
       "        vertical-align: top;\n",
       "    }\n",
       "\n",
       "    .dataframe thead th {\n",
       "        text-align: right;\n",
       "    }\n",
       "</style>\n",
       "<table border=\"1\" class=\"dataframe\">\n",
       "  <thead>\n",
       "    <tr style=\"text-align: right;\">\n",
       "      <th></th>\n",
       "      <th>SMA</th>\n",
       "      <th>RSI</th>\n",
       "    </tr>\n",
       "    <tr>\n",
       "      <th>Date</th>\n",
       "      <th></th>\n",
       "      <th></th>\n",
       "    </tr>\n",
       "  </thead>\n",
       "  <tbody>\n",
       "    <tr>\n",
       "      <th>2022-09-26</th>\n",
       "      <td>155.414500</td>\n",
       "      <td>31.430277</td>\n",
       "    </tr>\n",
       "    <tr>\n",
       "      <th>2020-03-18</th>\n",
       "      <td>70.335499</td>\n",
       "      <td>31.430277</td>\n",
       "    </tr>\n",
       "    <tr>\n",
       "      <th>2022-04-04</th>\n",
       "      <td>166.821501</td>\n",
       "      <td>31.430277</td>\n",
       "    </tr>\n",
       "    <tr>\n",
       "      <th>2020-11-11</th>\n",
       "      <td>115.578500</td>\n",
       "      <td>31.430277</td>\n",
       "    </tr>\n",
       "    <tr>\n",
       "      <th>2021-02-17</th>\n",
       "      <td>136.261000</td>\n",
       "      <td>31.430277</td>\n",
       "    </tr>\n",
       "    <tr>\n",
       "      <th>...</th>\n",
       "      <td>...</td>\n",
       "      <td>...</td>\n",
       "    </tr>\n",
       "    <tr>\n",
       "      <th>2020-05-11</th>\n",
       "      <td>72.161875</td>\n",
       "      <td>31.430277</td>\n",
       "    </tr>\n",
       "    <tr>\n",
       "      <th>2021-05-20</th>\n",
       "      <td>129.073001</td>\n",
       "      <td>31.430277</td>\n",
       "    </tr>\n",
       "    <tr>\n",
       "      <th>2022-06-15</th>\n",
       "      <td>142.498002</td>\n",
       "      <td>31.430277</td>\n",
       "    </tr>\n",
       "    <tr>\n",
       "      <th>2021-02-09</th>\n",
       "      <td>134.943501</td>\n",
       "      <td>31.430277</td>\n",
       "    </tr>\n",
       "    <tr>\n",
       "      <th>2021-06-18</th>\n",
       "      <td>127.034499</td>\n",
       "      <td>31.430277</td>\n",
       "    </tr>\n",
       "  </tbody>\n",
       "</table>\n",
       "<p>148 rows × 2 columns</p>\n",
       "</div>"
      ],
      "text/plain": [
       "                   SMA        RSI\n",
       "Date                             \n",
       "2022-09-26  155.414500  31.430277\n",
       "2020-03-18   70.335499  31.430277\n",
       "2022-04-04  166.821501  31.430277\n",
       "2020-11-11  115.578500  31.430277\n",
       "2021-02-17  136.261000  31.430277\n",
       "...                ...        ...\n",
       "2020-05-11   72.161875  31.430277\n",
       "2021-05-20  129.073001  31.430277\n",
       "2022-06-15  142.498002  31.430277\n",
       "2021-02-09  134.943501  31.430277\n",
       "2021-06-18  127.034499  31.430277\n",
       "\n",
       "[148 rows x 2 columns]"
      ]
     },
     "execution_count": 23,
     "metadata": {},
     "output_type": "execute_result"
    }
   ],
   "source": []
  },
  {
   "cell_type": "code",
   "execution_count": 24,
   "id": "75c6f9d3",
   "metadata": {},
   "outputs": [
    {
     "data": {
      "text/html": [
       "<div>\n",
       "<style scoped>\n",
       "    .dataframe tbody tr th:only-of-type {\n",
       "        vertical-align: middle;\n",
       "    }\n",
       "\n",
       "    .dataframe tbody tr th {\n",
       "        vertical-align: top;\n",
       "    }\n",
       "\n",
       "    .dataframe thead th {\n",
       "        text-align: right;\n",
       "    }\n",
       "</style>\n",
       "<table border=\"1\" class=\"dataframe\">\n",
       "  <thead>\n",
       "    <tr style=\"text-align: right;\">\n",
       "      <th></th>\n",
       "      <th>SMA</th>\n",
       "      <th>RSI</th>\n",
       "    </tr>\n",
       "    <tr>\n",
       "      <th>Date</th>\n",
       "      <th></th>\n",
       "      <th></th>\n",
       "    </tr>\n",
       "  </thead>\n",
       "  <tbody>\n",
       "    <tr>\n",
       "      <th>2022-09-26</th>\n",
       "      <td>155.414500</td>\n",
       "      <td>31.430277</td>\n",
       "    </tr>\n",
       "    <tr>\n",
       "      <th>2020-03-18</th>\n",
       "      <td>70.335499</td>\n",
       "      <td>31.430277</td>\n",
       "    </tr>\n",
       "    <tr>\n",
       "      <th>2022-04-04</th>\n",
       "      <td>166.821501</td>\n",
       "      <td>31.430277</td>\n",
       "    </tr>\n",
       "    <tr>\n",
       "      <th>2020-11-11</th>\n",
       "      <td>115.578500</td>\n",
       "      <td>31.430277</td>\n",
       "    </tr>\n",
       "    <tr>\n",
       "      <th>2021-02-17</th>\n",
       "      <td>136.261000</td>\n",
       "      <td>31.430277</td>\n",
       "    </tr>\n",
       "  </tbody>\n",
       "</table>\n",
       "</div>"
      ],
      "text/plain": [
       "                   SMA        RSI\n",
       "Date                             \n",
       "2022-09-26  155.414500  31.430277\n",
       "2020-03-18   70.335499  31.430277\n",
       "2022-04-04  166.821501  31.430277\n",
       "2020-11-11  115.578500  31.430277\n",
       "2021-02-17  136.261000  31.430277"
      ]
     },
     "execution_count": 24,
     "metadata": {},
     "output_type": "execute_result"
    }
   ],
   "source": [
    "X_test.head()"
   ]
  },
  {
   "cell_type": "code",
   "execution_count": 19,
   "id": "e8a3d9f1",
   "metadata": {},
   "outputs": [],
   "source": [
    "# Step 6: Make predictions using the trained model\n",
    "y_pred = model_tech.predict(X_test)"
   ]
  },
  {
   "cell_type": "code",
   "execution_count": null,
   "id": "37eb95b0",
   "metadata": {},
   "outputs": [],
   "source": [
    "#testing my model\n",
    "p = model_tech.predict(X_test)"
   ]
  },
  {
   "cell_type": "code",
   "execution_count": 14,
   "id": "c267bc93",
   "metadata": {},
   "outputs": [],
   "source": [
    "# Step 7: Evaluate the model\n",
    "mse = mean_squared_error(y_test, y_pred)\n",
    "r2 = r2_score(y_test, y_pred)"
   ]
  },
  {
   "cell_type": "code",
   "execution_count": 15,
   "id": "6528fd2a",
   "metadata": {
    "scrolled": true
   },
   "outputs": [
    {
     "name": "stdout",
     "output_type": "stream",
     "text": [
      "Mean Squared Error: 31.98\n",
      "R-squared: 0.97\n"
     ]
    }
   ],
   "source": [
    "print(f'Mean Squared Error: {mse:.2f}')\n",
    "print(f'R-squared: {r2:.2f}')"
   ]
  },
  {
   "cell_type": "code",
   "execution_count": 16,
   "id": "3237b6ae",
   "metadata": {},
   "outputs": [],
   "source": [
    "# Step 8: Use the model to predict future stock prices\n",
    "# Get the latest financial indicators for the next day's prediction\n",
    "latest_indicators = stock_data[['SMA', 'RSI']].tail(1)"
   ]
  },
  {
   "cell_type": "code",
   "execution_count": 17,
   "id": "6d8d9da1",
   "metadata": {},
   "outputs": [
    {
     "name": "stdout",
     "output_type": "stream",
     "text": [
      "Predicted Stock Price for Next Day: 136.70\n"
     ]
    }
   ],
   "source": [
    "# Make the prediction for the next day's closing price\n",
    "next_day_prediction = model.predict(latest_indicators)\n",
    "print(f'Predicted Stock Price for Next Day: {next_day_prediction[0]:.2f}')"
   ]
  },
  {
   "cell_type": "code",
   "execution_count": 22,
   "id": "ab0b2d15",
   "metadata": {},
   "outputs": [],
   "source": [
    "import pickle\n",
    "with open('model_tech_pickle', 'wb') as f:\n",
    "    pickle.dump(model_tech, f)"
   ]
  },
  {
   "cell_type": "code",
   "execution_count": null,
   "id": "feb24af2",
   "metadata": {},
   "outputs": [],
   "source": []
  }
 ],
 "metadata": {
  "kernelspec": {
   "display_name": "Python 3 (ipykernel)",
   "language": "python",
   "name": "python3"
  },
  "language_info": {
   "codemirror_mode": {
    "name": "ipython",
    "version": 3
   },
   "file_extension": ".py",
   "mimetype": "text/x-python",
   "name": "python",
   "nbconvert_exporter": "python",
   "pygments_lexer": "ipython3",
   "version": "3.9.15"
  }
 },
 "nbformat": 4,
 "nbformat_minor": 5
}
